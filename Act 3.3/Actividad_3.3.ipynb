{
 "cells": [
  {
   "cell_type": "code",
   "execution_count": 451,
   "id": "f6b2aca0",
   "metadata": {},
   "outputs": [],
   "source": [
    "import pandas as pd\n",
    "import numpy as np\n",
    "import matplotlib.pyplot as plt\n",
    "import re"
   ]
  },
  {
   "cell_type": "code",
   "execution_count": 452,
   "id": "26072969",
   "metadata": {},
   "outputs": [
    {
     "name": "stdout",
     "output_type": "stream",
     "text": [
      "<class 'pandas.core.frame.DataFrame'>\n",
      "RangeIndex: 26067 entries, 0 to 26066\n",
      "Data columns (total 51 columns):\n",
      " #   Column                                        Non-Null Count  Dtype  \n",
      "---  ------                                        --------------  -----  \n",
      " 0   Unnamed: 0                                    26067 non-null  int64  \n",
      " 1   host_response_time                            22563 non-null  object \n",
      " 2   host_response_rate                            22563 non-null  object \n",
      " 3   host_acceptance_rate                          23328 non-null  object \n",
      " 4   host_is_superhost                             24724 non-null  object \n",
      " 5   host_location                                 20587 non-null  object \n",
      " 6   host_has_profile_pic                          26062 non-null  object \n",
      " 7   host_identity_verified                        26062 non-null  object \n",
      " 8   neighbourhood_cleansed                        26067 non-null  object \n",
      " 9   latitude                                      26067 non-null  float64\n",
      " 10  longitude                                     26067 non-null  float64\n",
      " 11  property_type                                 26067 non-null  object \n",
      " 12  room_type                                     26067 non-null  object \n",
      " 13  accommodates                                  26067 non-null  int64  \n",
      " 14  bathrooms                                     22062 non-null  float64\n",
      " 15  bathrooms_text                                26040 non-null  object \n",
      " 16  bedrooms                                      25096 non-null  float64\n",
      " 17  beds                                          22045 non-null  float64\n",
      " 18  price                                         22068 non-null  object \n",
      " 19  minimum_nights                                26067 non-null  int64  \n",
      " 20  maximum_nights                                26067 non-null  int64  \n",
      " 21  minimum_minimum_nights                        26067 non-null  int64  \n",
      " 22  maximum_minimum_nights                        26067 non-null  int64  \n",
      " 23  minimum_maximum_nights                        26067 non-null  int64  \n",
      " 24  maximum_maximum_nights                        26067 non-null  int64  \n",
      " 25  minimum_nights_avg_ntm                        26067 non-null  float64\n",
      " 26  maximum_nights_avg_ntm                        26067 non-null  float64\n",
      " 27  availability_30                               26067 non-null  int64  \n",
      " 28  availability_60                               26067 non-null  int64  \n",
      " 29  availability_90                               26067 non-null  int64  \n",
      " 30  availability_365                              26067 non-null  int64  \n",
      " 31  number_of_reviews                             26067 non-null  int64  \n",
      " 32  number_of_reviews_ltm                         26067 non-null  int64  \n",
      " 33  number_of_reviews_l30d                        26067 non-null  int64  \n",
      " 34  number_of_reviews_ly                          26067 non-null  int64  \n",
      " 35  estimated_occupancy_l365d                     26067 non-null  int64  \n",
      " 36  estimated_revenue_l365d                       22068 non-null  float64\n",
      " 37  review_scores_rating                          22806 non-null  float64\n",
      " 38  review_scores_accuracy                        22805 non-null  float64\n",
      " 39  review_scores_cleanliness                     22805 non-null  float64\n",
      " 40  review_scores_checkin                         22805 non-null  float64\n",
      " 41  review_scores_communication                   22805 non-null  float64\n",
      " 42  review_scores_location                        22805 non-null  float64\n",
      " 43  review_scores_value                           22805 non-null  float64\n",
      " 44  calculated_host_listings_count                26067 non-null  int64  \n",
      " 45  calculated_host_listings_count_entire_homes   26067 non-null  int64  \n",
      " 46  calculated_host_listings_count_private_rooms  26067 non-null  int64  \n",
      " 47  calculated_host_listings_count_shared_rooms   26067 non-null  int64  \n",
      " 48  amenities                                     26067 non-null  object \n",
      " 49  has_availability                              25076 non-null  object \n",
      " 50  instant_bookable                              26067 non-null  object \n",
      "dtypes: float64(15), int64(21), object(15)\n",
      "memory usage: 10.1+ MB\n",
      "None\n"
     ]
    }
   ],
   "source": [
    "df = pd.read_csv('MexicoCity1.csv')\n",
    "print(df.info())"
   ]
  },
  {
   "cell_type": "code",
   "execution_count": 453,
   "id": "299823d2",
   "metadata": {},
   "outputs": [
    {
     "data": {
      "text/plain": [
       "Unnamed: 0                                         0\n",
       "host_response_time                              3504\n",
       "host_response_rate                              3504\n",
       "host_acceptance_rate                            2739\n",
       "host_is_superhost                               1343\n",
       "host_location                                   5480\n",
       "host_has_profile_pic                               5\n",
       "host_identity_verified                             5\n",
       "neighbourhood_cleansed                             0\n",
       "latitude                                           0\n",
       "longitude                                          0\n",
       "property_type                                      0\n",
       "room_type                                          0\n",
       "accommodates                                       0\n",
       "bathrooms                                       4005\n",
       "bathrooms_text                                    27\n",
       "bedrooms                                         971\n",
       "beds                                            4022\n",
       "price                                           3999\n",
       "minimum_nights                                     0\n",
       "maximum_nights                                     0\n",
       "minimum_minimum_nights                             0\n",
       "maximum_minimum_nights                             0\n",
       "minimum_maximum_nights                             0\n",
       "maximum_maximum_nights                             0\n",
       "minimum_nights_avg_ntm                             0\n",
       "maximum_nights_avg_ntm                             0\n",
       "availability_30                                    0\n",
       "availability_60                                    0\n",
       "availability_90                                    0\n",
       "availability_365                                   0\n",
       "number_of_reviews                                  0\n",
       "number_of_reviews_ltm                              0\n",
       "number_of_reviews_l30d                             0\n",
       "number_of_reviews_ly                               0\n",
       "estimated_occupancy_l365d                          0\n",
       "estimated_revenue_l365d                         3999\n",
       "review_scores_rating                            3261\n",
       "review_scores_accuracy                          3262\n",
       "review_scores_cleanliness                       3262\n",
       "review_scores_checkin                           3262\n",
       "review_scores_communication                     3262\n",
       "review_scores_location                          3262\n",
       "review_scores_value                             3262\n",
       "calculated_host_listings_count                     0\n",
       "calculated_host_listings_count_entire_homes        0\n",
       "calculated_host_listings_count_private_rooms       0\n",
       "calculated_host_listings_count_shared_rooms        0\n",
       "amenities                                          0\n",
       "has_availability                                 991\n",
       "instant_bookable                                   0\n",
       "dtype: int64"
      ]
     },
     "execution_count": 453,
     "metadata": {},
     "output_type": "execute_result"
    }
   ],
   "source": [
    "valores_nulos=df.isnull().sum()\n",
    "valores_nulos"
   ]
  },
  {
   "cell_type": "code",
   "execution_count": 454,
   "id": "ede4169d",
   "metadata": {},
   "outputs": [
    {
     "data": {
      "text/plain": [
       "Unnamed: 0                                         0\n",
       "host_response_time                              3504\n",
       "host_response_rate                              3504\n",
       "host_acceptance_rate                            2739\n",
       "host_is_superhost                               1343\n",
       "host_location                                   5480\n",
       "host_has_profile_pic                               5\n",
       "host_identity_verified                             5\n",
       "neighbourhood_cleansed                             0\n",
       "latitude                                           0\n",
       "longitude                                          0\n",
       "property_type                                      0\n",
       "room_type                                          0\n",
       "accommodates                                       0\n",
       "bathrooms                                       4005\n",
       "bathrooms_text                                    27\n",
       "bedrooms                                         971\n",
       "beds                                            4022\n",
       "price                                           3999\n",
       "minimum_nights                                     0\n",
       "maximum_nights                                     0\n",
       "minimum_minimum_nights                             0\n",
       "maximum_minimum_nights                             0\n",
       "minimum_maximum_nights                             0\n",
       "maximum_maximum_nights                             0\n",
       "minimum_nights_avg_ntm                             0\n",
       "maximum_nights_avg_ntm                             0\n",
       "availability_30                                    0\n",
       "availability_60                                    0\n",
       "availability_90                                    0\n",
       "availability_365                                   0\n",
       "number_of_reviews                                  0\n",
       "number_of_reviews_ltm                              0\n",
       "number_of_reviews_l30d                             0\n",
       "number_of_reviews_ly                               0\n",
       "estimated_occupancy_l365d                          0\n",
       "estimated_revenue_l365d                         3999\n",
       "review_scores_rating                            3261\n",
       "review_scores_accuracy                          3262\n",
       "review_scores_cleanliness                       3262\n",
       "review_scores_checkin                           3262\n",
       "review_scores_communication                     3262\n",
       "review_scores_location                          3262\n",
       "review_scores_value                             3262\n",
       "calculated_host_listings_count                     0\n",
       "calculated_host_listings_count_entire_homes        0\n",
       "calculated_host_listings_count_private_rooms       0\n",
       "calculated_host_listings_count_shared_rooms        0\n",
       "amenities                                          0\n",
       "has_availability                                 991\n",
       "instant_bookable                                   0\n",
       "dtype: int64"
      ]
     },
     "execution_count": 454,
     "metadata": {},
     "output_type": "execute_result"
    }
   ],
   "source": [
    "#Se crea una copia del df para trabajar en ella\n",
    "df2 = pd.read_csv('MexicoCity1.csv')\n",
    "valores_nulos=df2.isnull().sum()\n",
    "valores_nulos"
   ]
  },
  {
   "cell_type": "code",
   "execution_count": 455,
   "id": "2a985748",
   "metadata": {},
   "outputs": [],
   "source": [
    "#Se llenaron los valores nulos de host location por \"Unknown\"\n",
    "df2[\"host_location\"] =df2[\"host_location\"].fillna(\"Unknown\") "
   ]
  },
  {
   "cell_type": "code",
   "execution_count": 456,
   "id": "3c619b96",
   "metadata": {},
   "outputs": [
    {
     "name": "stderr",
     "output_type": "stream",
     "text": [
      "C:\\Users\\ajasa\\AppData\\Local\\Temp\\ipykernel_7404\\2154259730.py:10: FutureWarning: A value is trying to be set on a copy of a DataFrame or Series through chained assignment using an inplace method.\n",
      "The behavior will change in pandas 3.0. This inplace method will never work because the intermediate object on which we are setting values always behaves as a copy.\n",
      "\n",
      "For example, when doing 'df[col].method(value, inplace=True)', try using 'df.method({col: value}, inplace=True)' or df[col] = df[col].method(value) instead, to perform the operation inplace on the original object.\n",
      "\n",
      "\n",
      "  df2[\"host_acceptance_rate\"].fillna(round(df2[\"host_acceptance_rate\"].median(),1), inplace=True)\n"
     ]
    }
   ],
   "source": [
    "#limpiar porcentaje\n",
    "df2[\"host_acceptance_rate\"] = (\n",
    "    df2[\"host_acceptance_rate\"]\n",
    "    .astype(str)              \n",
    "    .str.replace(\"%\", \"\", regex=False) \n",
    ")\n",
    "\n",
    "#Se convierte la variable a tipo numerica y se rellenan valores con la mediana para no generar desviaciones en los datos generales\n",
    "df2[\"host_acceptance_rate\"] = float()\n",
    "df2[\"host_acceptance_rate\"].fillna(round(df2[\"host_acceptance_rate\"].median(),1), inplace=True)"
   ]
  },
  {
   "cell_type": "code",
   "execution_count": 394,
   "id": "1cf9d4c3",
   "metadata": {},
   "outputs": [
    {
     "data": {
      "text/plain": [
       "Unnamed: 0                                         0\n",
       "host_response_time                              3504\n",
       "host_response_rate                              3504\n",
       "host_acceptance_rate                               0\n",
       "host_is_superhost                               1343\n",
       "host_location                                      0\n",
       "host_has_profile_pic                               5\n",
       "host_identity_verified                             5\n",
       "neighbourhood_cleansed                             0\n",
       "latitude                                           0\n",
       "longitude                                          0\n",
       "property_type                                      0\n",
       "room_type                                          0\n",
       "accommodates                                       0\n",
       "bathrooms                                       4005\n",
       "bathrooms_text                                    27\n",
       "bedrooms                                         971\n",
       "beds                                            4022\n",
       "price                                           3999\n",
       "minimum_nights                                     0\n",
       "maximum_nights                                     0\n",
       "minimum_minimum_nights                             0\n",
       "maximum_minimum_nights                             0\n",
       "minimum_maximum_nights                             0\n",
       "maximum_maximum_nights                             0\n",
       "minimum_nights_avg_ntm                             0\n",
       "maximum_nights_avg_ntm                             0\n",
       "availability_30                                    0\n",
       "availability_60                                    0\n",
       "availability_90                                    0\n",
       "availability_365                                   0\n",
       "number_of_reviews                                  0\n",
       "number_of_reviews_ltm                              0\n",
       "number_of_reviews_l30d                             0\n",
       "number_of_reviews_ly                               0\n",
       "estimated_occupancy_l365d                          0\n",
       "estimated_revenue_l365d                         3999\n",
       "review_scores_rating                            3261\n",
       "review_scores_accuracy                          3262\n",
       "review_scores_cleanliness                       3262\n",
       "review_scores_checkin                           3262\n",
       "review_scores_communication                     3262\n",
       "review_scores_location                          3262\n",
       "review_scores_value                             3262\n",
       "calculated_host_listings_count                     0\n",
       "calculated_host_listings_count_entire_homes        0\n",
       "calculated_host_listings_count_private_rooms       0\n",
       "calculated_host_listings_count_shared_rooms        0\n",
       "amenities                                          0\n",
       "has_availability                                 991\n",
       "instant_bookable                                   0\n",
       "dtype: int64"
      ]
     },
     "execution_count": 394,
     "metadata": {},
     "output_type": "execute_result"
    }
   ],
   "source": [
    "valores_nulos=df2.isnull().sum()\n",
    "valores_nulos"
   ]
  },
  {
   "cell_type": "code",
   "execution_count": 395,
   "id": "dbfb7cb3",
   "metadata": {},
   "outputs": [],
   "source": [
    "#Se llenaron los valores nulos de host is superhost por false al no tener información\n",
    "df2[\"host_is_superhost\"] =df2[\"host_is_superhost\"].fillna(\"f\") "
   ]
  },
  {
   "cell_type": "code",
   "execution_count": 396,
   "id": "4047f1f6",
   "metadata": {},
   "outputs": [
    {
     "data": {
      "text/plain": [
       "Unnamed: 0                                         0\n",
       "host_response_time                              3504\n",
       "host_response_rate                              3504\n",
       "host_acceptance_rate                               0\n",
       "host_is_superhost                                  0\n",
       "host_location                                      0\n",
       "host_has_profile_pic                               5\n",
       "host_identity_verified                             5\n",
       "neighbourhood_cleansed                             0\n",
       "latitude                                           0\n",
       "longitude                                          0\n",
       "property_type                                      0\n",
       "room_type                                          0\n",
       "accommodates                                       0\n",
       "bathrooms                                       4005\n",
       "bathrooms_text                                    27\n",
       "bedrooms                                         971\n",
       "beds                                            4022\n",
       "price                                           3999\n",
       "minimum_nights                                     0\n",
       "maximum_nights                                     0\n",
       "minimum_minimum_nights                             0\n",
       "maximum_minimum_nights                             0\n",
       "minimum_maximum_nights                             0\n",
       "maximum_maximum_nights                             0\n",
       "minimum_nights_avg_ntm                             0\n",
       "maximum_nights_avg_ntm                             0\n",
       "availability_30                                    0\n",
       "availability_60                                    0\n",
       "availability_90                                    0\n",
       "availability_365                                   0\n",
       "number_of_reviews                                  0\n",
       "number_of_reviews_ltm                              0\n",
       "number_of_reviews_l30d                             0\n",
       "number_of_reviews_ly                               0\n",
       "estimated_occupancy_l365d                          0\n",
       "estimated_revenue_l365d                         3999\n",
       "review_scores_rating                            3261\n",
       "review_scores_accuracy                          3262\n",
       "review_scores_cleanliness                       3262\n",
       "review_scores_checkin                           3262\n",
       "review_scores_communication                     3262\n",
       "review_scores_location                          3262\n",
       "review_scores_value                             3262\n",
       "calculated_host_listings_count                     0\n",
       "calculated_host_listings_count_entire_homes        0\n",
       "calculated_host_listings_count_private_rooms       0\n",
       "calculated_host_listings_count_shared_rooms        0\n",
       "amenities                                          0\n",
       "has_availability                                 991\n",
       "instant_bookable                                   0\n",
       "dtype: int64"
      ]
     },
     "execution_count": 396,
     "metadata": {},
     "output_type": "execute_result"
    }
   ],
   "source": [
    "valores_nulos=df2.isnull().sum()\n",
    "valores_nulos"
   ]
  },
  {
   "cell_type": "code",
   "execution_count": 397,
   "id": "643ee59f",
   "metadata": {},
   "outputs": [],
   "source": [
    "#Si el host no tienen foto de perfil o no está verificado, se les asigna false\n",
    "df2[[\"host_has_profile_pic\", \"host_identity_verified\"]] = df2[[\"host_has_profile_pic\", \"host_identity_verified\"]].fillna(\"f\") "
   ]
  },
  {
   "cell_type": "code",
   "execution_count": 398,
   "id": "dfecff46",
   "metadata": {},
   "outputs": [],
   "source": [
    "#No hay información sobre el tiempo de respuesta del anfitrión\n",
    "df2[\"host_response_time\"] =df2[\"host_response_time\"].fillna(\"Unknown\") "
   ]
  },
  {
   "cell_type": "code",
   "execution_count": 399,
   "id": "00e53122",
   "metadata": {},
   "outputs": [
    {
     "data": {
      "text/plain": [
       "Unnamed: 0                                         0\n",
       "host_response_time                                 0\n",
       "host_response_rate                              3504\n",
       "host_acceptance_rate                               0\n",
       "host_is_superhost                                  0\n",
       "host_location                                      0\n",
       "host_has_profile_pic                               0\n",
       "host_identity_verified                             0\n",
       "neighbourhood_cleansed                             0\n",
       "latitude                                           0\n",
       "longitude                                          0\n",
       "property_type                                      0\n",
       "room_type                                          0\n",
       "accommodates                                       0\n",
       "bathrooms                                       4005\n",
       "bathrooms_text                                    27\n",
       "bedrooms                                         971\n",
       "beds                                            4022\n",
       "price                                           3999\n",
       "minimum_nights                                     0\n",
       "maximum_nights                                     0\n",
       "minimum_minimum_nights                             0\n",
       "maximum_minimum_nights                             0\n",
       "minimum_maximum_nights                             0\n",
       "maximum_maximum_nights                             0\n",
       "minimum_nights_avg_ntm                             0\n",
       "maximum_nights_avg_ntm                             0\n",
       "availability_30                                    0\n",
       "availability_60                                    0\n",
       "availability_90                                    0\n",
       "availability_365                                   0\n",
       "number_of_reviews                                  0\n",
       "number_of_reviews_ltm                              0\n",
       "number_of_reviews_l30d                             0\n",
       "number_of_reviews_ly                               0\n",
       "estimated_occupancy_l365d                          0\n",
       "estimated_revenue_l365d                         3999\n",
       "review_scores_rating                            3261\n",
       "review_scores_accuracy                          3262\n",
       "review_scores_cleanliness                       3262\n",
       "review_scores_checkin                           3262\n",
       "review_scores_communication                     3262\n",
       "review_scores_location                          3262\n",
       "review_scores_value                             3262\n",
       "calculated_host_listings_count                     0\n",
       "calculated_host_listings_count_entire_homes        0\n",
       "calculated_host_listings_count_private_rooms       0\n",
       "calculated_host_listings_count_shared_rooms        0\n",
       "amenities                                          0\n",
       "has_availability                                 991\n",
       "instant_bookable                                   0\n",
       "dtype: int64"
      ]
     },
     "execution_count": 399,
     "metadata": {},
     "output_type": "execute_result"
    }
   ],
   "source": [
    "valores_nulos=df2.isnull().sum()\n",
    "valores_nulos"
   ]
  },
  {
   "cell_type": "code",
   "execution_count": 400,
   "id": "c7e7b014",
   "metadata": {},
   "outputs": [],
   "source": [
    "#Se limpia la variable de bathrooms_text\n",
    "def parse_bathrooms_text(s):\n",
    "    return 0.5 if isinstance(s, str) and \"half\" in s.lower() else (\n",
    "        float(re.search(r\"\\d+(\\.\\d+)?\", str(s)).group()) if pd.notna(s) and re.search(r\"\\d+(\\.\\d+)?\", str(s)) else np.nan\n",
    "    )\n"
   ]
  },
  {
   "cell_type": "code",
   "execution_count": 401,
   "id": "efdf7fe1",
   "metadata": {},
   "outputs": [
    {
     "data": {
      "text/plain": [
       "0        1.0\n",
       "1        5.5\n",
       "2        1.0\n",
       "3        1.0\n",
       "4        1.0\n",
       "        ... \n",
       "26062    1.0\n",
       "26063    1.0\n",
       "26064    1.0\n",
       "26065    1.0\n",
       "26066    2.0\n",
       "Name: bathrooms_text, Length: 26067, dtype: float64"
      ]
     },
     "execution_count": 401,
     "metadata": {},
     "output_type": "execute_result"
    }
   ],
   "source": [
    "#Se rellena la variable de bathrooms con el numero en bathrooms text y se elimina bathrooms_text\n",
    "banos = df2[\"bathrooms_text\"].apply(parse_bathrooms_text)\n",
    "df2[\"bathrooms\"] = df2[\"bathrooms\"].fillna(banos)\n",
    "df2 = df2.drop(columns=[\"bathrooms_text\"])\n",
    "banos"
   ]
  },
  {
   "cell_type": "code",
   "execution_count": 402,
   "id": "f7b44727",
   "metadata": {},
   "outputs": [],
   "source": [
    "# Se rellenan los valores nulos de bathrooms con \"1\" ya que es el minimo de banos que puede haber\n",
    "df2[\"bathrooms\"] =df2[\"bathrooms\"].fillna(\"1\") "
   ]
  },
  {
   "cell_type": "code",
   "execution_count": 403,
   "id": "d466559b",
   "metadata": {},
   "outputs": [],
   "source": [
    "# Se rellenan los valores nulos de beds y bedrooms con la mediana\n",
    "df2[\"beds\"] = df2[\"beds\"].fillna(df2[\"beds\"].median()) \n",
    "df2[\"bedrooms\"] = df2[\"bedrooms\"].fillna(df2[\"bedrooms\"].median())"
   ]
  },
  {
   "cell_type": "code",
   "execution_count": 404,
   "id": "9fc68009",
   "metadata": {},
   "outputs": [
    {
     "data": {
      "text/plain": [
       "Unnamed: 0                                         0\n",
       "host_response_time                                 0\n",
       "host_response_rate                              3504\n",
       "host_acceptance_rate                               0\n",
       "host_is_superhost                                  0\n",
       "host_location                                      0\n",
       "host_has_profile_pic                               0\n",
       "host_identity_verified                             0\n",
       "neighbourhood_cleansed                             0\n",
       "latitude                                           0\n",
       "longitude                                          0\n",
       "property_type                                      0\n",
       "room_type                                          0\n",
       "accommodates                                       0\n",
       "bathrooms                                          0\n",
       "bedrooms                                           0\n",
       "beds                                               0\n",
       "price                                           3999\n",
       "minimum_nights                                     0\n",
       "maximum_nights                                     0\n",
       "minimum_minimum_nights                             0\n",
       "maximum_minimum_nights                             0\n",
       "minimum_maximum_nights                             0\n",
       "maximum_maximum_nights                             0\n",
       "minimum_nights_avg_ntm                             0\n",
       "maximum_nights_avg_ntm                             0\n",
       "availability_30                                    0\n",
       "availability_60                                    0\n",
       "availability_90                                    0\n",
       "availability_365                                   0\n",
       "number_of_reviews                                  0\n",
       "number_of_reviews_ltm                              0\n",
       "number_of_reviews_l30d                             0\n",
       "number_of_reviews_ly                               0\n",
       "estimated_occupancy_l365d                          0\n",
       "estimated_revenue_l365d                         3999\n",
       "review_scores_rating                            3261\n",
       "review_scores_accuracy                          3262\n",
       "review_scores_cleanliness                       3262\n",
       "review_scores_checkin                           3262\n",
       "review_scores_communication                     3262\n",
       "review_scores_location                          3262\n",
       "review_scores_value                             3262\n",
       "calculated_host_listings_count                     0\n",
       "calculated_host_listings_count_entire_homes        0\n",
       "calculated_host_listings_count_private_rooms       0\n",
       "calculated_host_listings_count_shared_rooms        0\n",
       "amenities                                          0\n",
       "has_availability                                 991\n",
       "instant_bookable                                   0\n",
       "dtype: int64"
      ]
     },
     "execution_count": 404,
     "metadata": {},
     "output_type": "execute_result"
    }
   ],
   "source": [
    "valores_nulos=df2.isnull().sum()\n",
    "valores_nulos"
   ]
  },
  {
   "cell_type": "code",
   "execution_count": 429,
   "id": "5dcc6851",
   "metadata": {},
   "outputs": [
    {
     "name": "stdout",
     "output_type": "stream",
     "text": [
      "Promedio por room_type:\n",
      "          room_type        price\n",
      "0  Entire home/apt  2044.296078\n",
      "1       Hotel room  4596.823921\n",
      "2     Private room   878.246647\n",
      "3      Shared room   486.167388\n",
      "         room_type bathrooms        price\n",
      "0  Entire home/apt       0.0  1754.680272\n",
      "1  Entire home/apt       0.5  2365.900000\n",
      "2  Entire home/apt       1.0  1336.686530\n",
      "3  Entire home/apt       1.5  2252.712067\n",
      "4  Entire home/apt       2.0  2194.061628\n",
      "         room_type  bedrooms        price\n",
      "0  Entire home/apt       0.0  1335.957929\n",
      "1  Entire home/apt       1.0  1441.312435\n",
      "2  Entire home/apt       2.0  1895.209841\n",
      "3  Entire home/apt       3.0  2943.695337\n",
      "4  Entire home/apt       4.0  5089.266733\n",
      "NaN en price: 56\n"
     ]
    }
   ],
   "source": [
    "# Se llenan los valores nulos de price con el promedio por grupo (room_type, bathrooms y bedrooms)\n",
    "df2[\"price\"] = df2[\"price\"].replace(r'[\\$,]', '', regex=True).astype(float)\n",
    "\n",
    "prom_por_tipo = df2.groupby(\"room_type\")[\"price\"].mean().reset_index()\n",
    "print(\"Promedio por room_type:\\n\", prom_por_tipo)\n",
    "\n",
    "prom_por_tipo_bath = (\n",
    "    df2.groupby([\"room_type\", \"bathrooms\"], dropna=False)[\"price\"]\n",
    "      .mean()\n",
    "      .reset_index()\n",
    ")\n",
    "print(prom_por_tipo_bath.head())\n",
    "\n",
    "prom_por_tipo_bed = (\n",
    "    df2.groupby([\"room_type\", \"bedrooms\"], dropna=False)[\"price\"]\n",
    "      .mean()\n",
    "      .reset_index()\n",
    ")\n",
    "print(prom_por_tipo_bed.head())\n",
    "\n",
    "\n",
    "df2[\"price\"] = df2[\"price\"].fillna(\n",
    "    df2.groupby([\"room_type\",\"bathrooms\", \"bedrooms\"])[\"price\"].transform(\"mean\")\n",
    ")\n",
    "\n",
    "print(\"NaN en price:\", df2[\"price\"].isna().sum())\n"
   ]
  },
  {
   "cell_type": "code",
   "execution_count": 432,
   "id": "844663eb",
   "metadata": {},
   "outputs": [],
   "source": [
    "#Los ultimos valores se rellenaron solamnete con el room_type al no poderse promediar con las demas variables\n",
    "df2[\"price\"] = df2[\"price\"].fillna(\n",
    "    df2.groupby(\"room_type\")[\"price\"].transform(\"mean\")\n",
    ")"
   ]
  },
  {
   "cell_type": "code",
   "execution_count": 433,
   "id": "6ed840c1",
   "metadata": {},
   "outputs": [
    {
     "data": {
      "text/plain": [
       "Unnamed: 0                                         0\n",
       "host_response_time                                 0\n",
       "host_response_rate                              3504\n",
       "host_acceptance_rate                               0\n",
       "host_is_superhost                                  0\n",
       "host_location                                      0\n",
       "host_has_profile_pic                               0\n",
       "host_identity_verified                             0\n",
       "neighbourhood_cleansed                             0\n",
       "latitude                                           0\n",
       "longitude                                          0\n",
       "property_type                                      0\n",
       "room_type                                          0\n",
       "accommodates                                       0\n",
       "bathrooms                                          0\n",
       "bedrooms                                           0\n",
       "beds                                               0\n",
       "price                                              0\n",
       "minimum_nights                                     0\n",
       "maximum_nights                                     0\n",
       "minimum_minimum_nights                             0\n",
       "maximum_minimum_nights                             0\n",
       "minimum_maximum_nights                             0\n",
       "maximum_maximum_nights                             0\n",
       "minimum_nights_avg_ntm                             0\n",
       "maximum_nights_avg_ntm                             0\n",
       "availability_30                                    0\n",
       "availability_60                                    0\n",
       "availability_90                                    0\n",
       "availability_365                                   0\n",
       "number_of_reviews                                  0\n",
       "number_of_reviews_ltm                              0\n",
       "number_of_reviews_l30d                             0\n",
       "number_of_reviews_ly                               0\n",
       "estimated_occupancy_l365d                          0\n",
       "estimated_revenue_l365d                         3999\n",
       "review_scores_rating                            3261\n",
       "review_scores_accuracy                          3262\n",
       "review_scores_cleanliness                       3262\n",
       "review_scores_checkin                           3262\n",
       "review_scores_communication                     3262\n",
       "review_scores_location                          3262\n",
       "review_scores_value                             3262\n",
       "calculated_host_listings_count                     0\n",
       "calculated_host_listings_count_entire_homes        0\n",
       "calculated_host_listings_count_private_rooms       0\n",
       "calculated_host_listings_count_shared_rooms        0\n",
       "amenities                                          0\n",
       "has_availability                                 991\n",
       "instant_bookable                                   0\n",
       "dtype: int64"
      ]
     },
     "execution_count": 433,
     "metadata": {},
     "output_type": "execute_result"
    }
   ],
   "source": [
    "valores_nulos=df2.isnull().sum()\n",
    "valores_nulos"
   ]
  },
  {
   "cell_type": "code",
   "execution_count": null,
   "id": "61911040",
   "metadata": {},
   "outputs": [
    {
     "name": "stdout",
     "output_type": "stream",
     "text": [
      "   estimated_occupancy_l365d        price  estimated_revenue_l365d\n",
      "0                          0  3982.000000                 0.000000\n",
      "1                          6  9590.923077               575.455385\n",
      "2                         30   585.000000               175.500000\n",
      "3                         12  1361.084154               163.330098\n",
      "4                         54  1015.000000               548.100000\n",
      "5                          0   865.508475                 0.000000\n",
      "6                        210  3982.000000              8362.200000\n",
      "7                         48   327.000000               156.960000\n",
      "8                        114   605.000000               689.700000\n",
      "9                          0   874.450248                 0.000000\n"
     ]
    }
   ],
   "source": [
    "# Se limpia price y se realiza una regla de tres en donde si la ocupacion < 0 se multiplica por price y su ocupacion es 0 se queda igual \n",
    "df2[\"price\"] = df2[\"price\"].replace(r\"[\\$,]\", \"\", regex=True).astype(float)\n",
    "ocupacion = pd.to_numeric(df2[\"estimated_occupancy_l365d\"].astype(str).str.rstrip(\"%\"), errors=\"coerce\")\n",
    "ocupacion = np.where(ocupacion > 1, ocupacion / 100, ocupacion)\n",
    "\n",
    "df2[\"estimated_revenue_l365d\"] = np.where(ocupacion == 0, 0, ocupacion * df2[\"price\"])\n",
    "print(df2[[\"estimated_occupancy_l365d\", \"price\", \"estimated_revenue_l365d\"]].head(10))"
   ]
  },
  {
   "cell_type": "code",
   "execution_count": 436,
   "id": "0b312abc",
   "metadata": {},
   "outputs": [
    {
     "data": {
      "text/plain": [
       "Unnamed: 0                                         0\n",
       "host_response_time                                 0\n",
       "host_response_rate                              3504\n",
       "host_acceptance_rate                               0\n",
       "host_is_superhost                                  0\n",
       "host_location                                      0\n",
       "host_has_profile_pic                               0\n",
       "host_identity_verified                             0\n",
       "neighbourhood_cleansed                             0\n",
       "latitude                                           0\n",
       "longitude                                          0\n",
       "property_type                                      0\n",
       "room_type                                          0\n",
       "accommodates                                       0\n",
       "bathrooms                                          0\n",
       "bedrooms                                           0\n",
       "beds                                               0\n",
       "price                                              0\n",
       "minimum_nights                                     0\n",
       "maximum_nights                                     0\n",
       "minimum_minimum_nights                             0\n",
       "maximum_minimum_nights                             0\n",
       "minimum_maximum_nights                             0\n",
       "maximum_maximum_nights                             0\n",
       "minimum_nights_avg_ntm                             0\n",
       "maximum_nights_avg_ntm                             0\n",
       "availability_30                                    0\n",
       "availability_60                                    0\n",
       "availability_90                                    0\n",
       "availability_365                                   0\n",
       "number_of_reviews                                  0\n",
       "number_of_reviews_ltm                              0\n",
       "number_of_reviews_l30d                             0\n",
       "number_of_reviews_ly                               0\n",
       "estimated_occupancy_l365d                          0\n",
       "estimated_revenue_l365d                            0\n",
       "review_scores_rating                            3261\n",
       "review_scores_accuracy                          3262\n",
       "review_scores_cleanliness                       3262\n",
       "review_scores_checkin                           3262\n",
       "review_scores_communication                     3262\n",
       "review_scores_location                          3262\n",
       "review_scores_value                             3262\n",
       "calculated_host_listings_count                     0\n",
       "calculated_host_listings_count_entire_homes        0\n",
       "calculated_host_listings_count_private_rooms       0\n",
       "calculated_host_listings_count_shared_rooms        0\n",
       "amenities                                          0\n",
       "has_availability                                 991\n",
       "instant_bookable                                   0\n",
       "dtype: int64"
      ]
     },
     "execution_count": 436,
     "metadata": {},
     "output_type": "execute_result"
    }
   ],
   "source": [
    "valores_nulos=df2.isnull().sum()\n",
    "valores_nulos"
   ]
  },
  {
   "cell_type": "code",
   "execution_count": 438,
   "id": "ce91ad7a",
   "metadata": {},
   "outputs": [],
   "source": [
    "# Si no hay datos, se rellena has_availability con \"Unknown\"\n",
    "df2[\"has_availability\"] =df2[\"has_availability\"].fillna(\"Unknown\") "
   ]
  },
  {
   "cell_type": "code",
   "execution_count": 440,
   "id": "3ca03d8e",
   "metadata": {},
   "outputs": [
    {
     "data": {
      "text/plain": [
       "Unnamed: 0                                         0\n",
       "host_response_time                                 0\n",
       "host_response_rate                              3504\n",
       "host_acceptance_rate                               0\n",
       "host_is_superhost                                  0\n",
       "host_location                                      0\n",
       "host_has_profile_pic                               0\n",
       "host_identity_verified                             0\n",
       "neighbourhood_cleansed                             0\n",
       "latitude                                           0\n",
       "longitude                                          0\n",
       "property_type                                      0\n",
       "room_type                                          0\n",
       "accommodates                                       0\n",
       "bathrooms                                          0\n",
       "bedrooms                                           0\n",
       "beds                                               0\n",
       "price                                              0\n",
       "minimum_nights                                     0\n",
       "maximum_nights                                     0\n",
       "minimum_minimum_nights                             0\n",
       "maximum_minimum_nights                             0\n",
       "minimum_maximum_nights                             0\n",
       "maximum_maximum_nights                             0\n",
       "minimum_nights_avg_ntm                             0\n",
       "maximum_nights_avg_ntm                             0\n",
       "availability_30                                    0\n",
       "availability_60                                    0\n",
       "availability_90                                    0\n",
       "availability_365                                   0\n",
       "number_of_reviews                                  0\n",
       "number_of_reviews_ltm                              0\n",
       "number_of_reviews_l30d                             0\n",
       "number_of_reviews_ly                               0\n",
       "estimated_occupancy_l365d                          0\n",
       "estimated_revenue_l365d                            0\n",
       "review_scores_rating                            3261\n",
       "review_scores_accuracy                          3262\n",
       "review_scores_cleanliness                       3262\n",
       "review_scores_checkin                           3262\n",
       "review_scores_communication                     3262\n",
       "review_scores_location                          3262\n",
       "review_scores_value                             3262\n",
       "calculated_host_listings_count                     0\n",
       "calculated_host_listings_count_entire_homes        0\n",
       "calculated_host_listings_count_private_rooms       0\n",
       "calculated_host_listings_count_shared_rooms        0\n",
       "amenities                                          0\n",
       "has_availability                                   0\n",
       "instant_bookable                                   0\n",
       "dtype: int64"
      ]
     },
     "execution_count": 440,
     "metadata": {},
     "output_type": "execute_result"
    }
   ],
   "source": [
    "valores_nulos=df2.isnull().sum()\n",
    "valores_nulos"
   ]
  },
  {
   "cell_type": "code",
   "execution_count": 448,
   "id": "b580845c",
   "metadata": {},
   "outputs": [],
   "source": [
    "#Si no hay respuesta en las resenas, se llena con 0 para indicar que no hay valores\n",
    "df2[\"review_scores_rating\"] = df2[\"review_scores_rating\"].fillna(0)\n",
    "df2[\"review_scores_accuracy\"] = df2[\"review_scores_accuracy\"].fillna(0)\n",
    "df2[\"review_scores_cleanliness\"] = df2[\"review_scores_cleanliness\"].fillna(0)\n",
    "df2[\"review_scores_checkin\"] = df2[\"review_scores_checkin\"].fillna(0)\n",
    "df2[\"review_scores_communication\"] = df2[\"review_scores_communication\"].fillna(0)\n",
    "df2[\"review_scores_location\"] = df2[\"review_scores_location\"].fillna(0)\n",
    "df2[\"review_scores_value\"] = df2[\"review_scores_value\"].fillna(0)\n"
   ]
  },
  {
   "cell_type": "code",
   "execution_count": 449,
   "id": "4e65723b",
   "metadata": {},
   "outputs": [],
   "source": [
    "df2[\"host_response_rate\"] = df2[\"host_response_rate\"].fillna(\"Unknown\")"
   ]
  },
  {
   "cell_type": "code",
   "execution_count": 450,
   "id": "c9ba1e95",
   "metadata": {},
   "outputs": [
    {
     "data": {
      "text/plain": [
       "Unnamed: 0                                      0\n",
       "host_response_time                              0\n",
       "host_response_rate                              0\n",
       "host_acceptance_rate                            0\n",
       "host_is_superhost                               0\n",
       "host_location                                   0\n",
       "host_has_profile_pic                            0\n",
       "host_identity_verified                          0\n",
       "neighbourhood_cleansed                          0\n",
       "latitude                                        0\n",
       "longitude                                       0\n",
       "property_type                                   0\n",
       "room_type                                       0\n",
       "accommodates                                    0\n",
       "bathrooms                                       0\n",
       "bedrooms                                        0\n",
       "beds                                            0\n",
       "price                                           0\n",
       "minimum_nights                                  0\n",
       "maximum_nights                                  0\n",
       "minimum_minimum_nights                          0\n",
       "maximum_minimum_nights                          0\n",
       "minimum_maximum_nights                          0\n",
       "maximum_maximum_nights                          0\n",
       "minimum_nights_avg_ntm                          0\n",
       "maximum_nights_avg_ntm                          0\n",
       "availability_30                                 0\n",
       "availability_60                                 0\n",
       "availability_90                                 0\n",
       "availability_365                                0\n",
       "number_of_reviews                               0\n",
       "number_of_reviews_ltm                           0\n",
       "number_of_reviews_l30d                          0\n",
       "number_of_reviews_ly                            0\n",
       "estimated_occupancy_l365d                       0\n",
       "estimated_revenue_l365d                         0\n",
       "review_scores_rating                            0\n",
       "review_scores_accuracy                          0\n",
       "review_scores_cleanliness                       0\n",
       "review_scores_checkin                           0\n",
       "review_scores_communication                     0\n",
       "review_scores_location                          0\n",
       "review_scores_value                             0\n",
       "calculated_host_listings_count                  0\n",
       "calculated_host_listings_count_entire_homes     0\n",
       "calculated_host_listings_count_private_rooms    0\n",
       "calculated_host_listings_count_shared_rooms     0\n",
       "amenities                                       0\n",
       "has_availability                                0\n",
       "instant_bookable                                0\n",
       "dtype: int64"
      ]
     },
     "execution_count": 450,
     "metadata": {},
     "output_type": "execute_result"
    }
   ],
   "source": [
    "valores_nulos=df2.isnull().sum()\n",
    "valores_nulos"
   ]
  },
  {
   "cell_type": "code",
   "execution_count": 457,
   "id": "33d98100",
   "metadata": {},
   "outputs": [],
   "source": [
    "df2.to_csv(\"MexicoCity_Sin_Nulos.csv\")"
   ]
  }
 ],
 "metadata": {
  "kernelspec": {
   "display_name": "Python 3",
   "language": "python",
   "name": "python3"
  },
  "language_info": {
   "codemirror_mode": {
    "name": "ipython",
    "version": 3
   },
   "file_extension": ".py",
   "mimetype": "text/x-python",
   "name": "python",
   "nbconvert_exporter": "python",
   "pygments_lexer": "ipython3",
   "version": "3.13.7"
  }
 },
 "nbformat": 4,
 "nbformat_minor": 5
}
